{
 "cells": [
  {
   "cell_type": "code",
   "execution_count": 1,
   "metadata": {},
   "outputs": [],
   "source": [
    "from name_generator import generate_name"
   ]
  },
  {
   "cell_type": "code",
   "execution_count": 3,
   "metadata": {},
   "outputs": [
    {
     "name": "stdout",
     "output_type": "stream",
     "text": [
      "ZoaOerCwa nhaWo\n",
      "Ad\n",
      "Xhattmnit Gzzoxam\n",
      "Cebmbbayysao LoorudoKouWuF\n",
      "Elonka BaubatcyvakeUha\n",
      "kbsVurQrzaia aineuga\n",
      "Jsseekal Oh\n",
      "Csivrek ChPedusu\n",
      "Atyacv Ekaboii-dhbamNKjzaFKQue\n",
      "nutFy AbbsylkaSthabYsyi\n"
     ]
    }
   ],
   "source": [
    "for i in range(10):\n",
    "    print(generate_name('models/fullnames.pt', 'source/fullnames.pkl', rough=False, capitalization=False))"
   ]
  },
  {
   "cell_type": "code",
   "execution_count": 12,
   "metadata": {},
   "outputs": [
    {
     "name": "stdout",
     "output_type": "stream",
     "text": [
      "Yuyure\n",
      "Tin\n",
      "Tom\n",
      "Eno\n",
      "La\n",
      "Law\n",
      "Ytatmaki\n",
      "Su\n",
      "Eng\n",
      "Tota\n"
     ]
    }
   ],
   "source": [
    "for i in range(10):\n",
    "    print(generate_name('models/lastnames.pt', 'source/lastnames.pkl', rough=False, capitalization=True))"
   ]
  },
  {
   "cell_type": "code",
   "execution_count": 9,
   "metadata": {},
   "outputs": [
    {
     "name": "stdout",
     "output_type": "stream",
     "text": [
      "Rquw \n",
      "Laebyl\n",
      "Kaispieig\n",
      "Yarlee\n",
      "Htac\n",
      "Maipey\n",
      "Pdody\n",
      "Akayehn\n",
      "Blleevletprye\n",
      "Ovedy\n"
     ]
    }
   ],
   "source": [
    "for i in range(10):\n",
    "    print(generate_name('models/firstnames220.pt', 'source/firstnames.pkl', rough=False, capitalization=True))"
   ]
  },
  {
   "cell_type": "code",
   "execution_count": 11,
   "metadata": {},
   "outputs": [
    {
     "ename": "RuntimeError",
     "evalue": "Error(s) in loading state_dict for charModel:\n\tsize mismatch for emb.weight: copying a param with shape torch.Size([30, 10]) from checkpoint, the shape in current model is torch.Size([31, 10]).\n\tsize mismatch for fc.weight: copying a param with shape torch.Size([30, 9]) from checkpoint, the shape in current model is torch.Size([31, 9]).\n\tsize mismatch for fc.bias: copying a param with shape torch.Size([30]) from checkpoint, the shape in current model is torch.Size([31]).",
     "output_type": "error",
     "traceback": [
      "\u001b[0;31m---------------------------------------------------------------------------\u001b[0m",
      "\u001b[0;31mRuntimeError\u001b[0m                              Traceback (most recent call last)",
      "\u001b[0;32m<ipython-input-11-d8213f972eda>\u001b[0m in \u001b[0;36m<module>\u001b[0;34m\u001b[0m\n\u001b[1;32m      1\u001b[0m \u001b[0;32mfor\u001b[0m \u001b[0mi\u001b[0m \u001b[0;32min\u001b[0m \u001b[0mrange\u001b[0m\u001b[0;34m(\u001b[0m\u001b[0;36m10\u001b[0m\u001b[0;34m)\u001b[0m\u001b[0;34m:\u001b[0m\u001b[0;34m\u001b[0m\u001b[0;34m\u001b[0m\u001b[0m\n\u001b[0;32m----> 2\u001b[0;31m     \u001b[0mf\u001b[0m \u001b[0;34m=\u001b[0m \u001b[0mgenerate_name\u001b[0m\u001b[0;34m(\u001b[0m\u001b[0;34m'models/firstnames-ok.pt'\u001b[0m\u001b[0;34m,\u001b[0m \u001b[0;34m'source/firstnames.pkl'\u001b[0m\u001b[0;34m,\u001b[0m \u001b[0mrough\u001b[0m\u001b[0;34m=\u001b[0m\u001b[0;32mFalse\u001b[0m\u001b[0;34m,\u001b[0m \u001b[0mcapitalization\u001b[0m\u001b[0;34m=\u001b[0m\u001b[0;32mTrue\u001b[0m\u001b[0;34m)\u001b[0m\u001b[0;34m\u001b[0m\u001b[0;34m\u001b[0m\u001b[0m\n\u001b[0m\u001b[1;32m      3\u001b[0m     \u001b[0ml\u001b[0m \u001b[0;34m=\u001b[0m \u001b[0mgenerate_name\u001b[0m\u001b[0;34m(\u001b[0m\u001b[0;34m'models/lastnames.pt'\u001b[0m\u001b[0;34m,\u001b[0m \u001b[0;34m'source/lastnames.pkl'\u001b[0m\u001b[0;34m,\u001b[0m \u001b[0mrough\u001b[0m\u001b[0;34m=\u001b[0m\u001b[0;32mFalse\u001b[0m\u001b[0;34m,\u001b[0m \u001b[0mcapitalization\u001b[0m\u001b[0;34m=\u001b[0m\u001b[0;32mTrue\u001b[0m\u001b[0;34m)\u001b[0m\u001b[0;34m\u001b[0m\u001b[0;34m\u001b[0m\u001b[0m\n\u001b[1;32m      4\u001b[0m     \u001b[0mprint\u001b[0m\u001b[0;34m(\u001b[0m\u001b[0mf\u001b[0m\u001b[0;34m+\u001b[0m\u001b[0;34m' '\u001b[0m\u001b[0;34m+\u001b[0m\u001b[0ml\u001b[0m\u001b[0;34m)\u001b[0m\u001b[0;34m\u001b[0m\u001b[0;34m\u001b[0m\u001b[0m\n",
      "\u001b[0;32m~/Dropbox/Work/pregit/charNames/name_generator.py\u001b[0m in \u001b[0;36mgenerate_name\u001b[0;34m(modelPath, vocabPath, rough, capitalization)\u001b[0m\n\u001b[1;32m    117\u001b[0m \u001b[0;34m\u001b[0m\u001b[0m\n\u001b[1;32m    118\u001b[0m     \u001b[0mmodel\u001b[0m \u001b[0;34m=\u001b[0m \u001b[0mcharModel\u001b[0m\u001b[0;34m(\u001b[0m\u001b[0mvocab_size\u001b[0m\u001b[0;34m=\u001b[0m\u001b[0mlen\u001b[0m\u001b[0;34m(\u001b[0m\u001b[0mvocab\u001b[0m\u001b[0;34m)\u001b[0m\u001b[0;34m)\u001b[0m\u001b[0;34m\u001b[0m\u001b[0;34m\u001b[0m\u001b[0m\n\u001b[0;32m--> 119\u001b[0;31m     \u001b[0mmodel\u001b[0m\u001b[0;34m.\u001b[0m\u001b[0mload_state_dict\u001b[0m\u001b[0;34m(\u001b[0m\u001b[0mtorch\u001b[0m\u001b[0;34m.\u001b[0m\u001b[0mload\u001b[0m\u001b[0;34m(\u001b[0m\u001b[0mmodelPath\u001b[0m\u001b[0;34m,\u001b[0m \u001b[0mmap_location\u001b[0m\u001b[0;34m=\u001b[0m\u001b[0;34m'cpu'\u001b[0m\u001b[0;34m)\u001b[0m\u001b[0;34m)\u001b[0m\u001b[0;34m\u001b[0m\u001b[0;34m\u001b[0m\u001b[0m\n\u001b[0m\u001b[1;32m    120\u001b[0m \u001b[0;34m\u001b[0m\u001b[0m\n\u001b[1;32m    121\u001b[0m     \u001b[0mbeginid\u001b[0m \u001b[0;34m=\u001b[0m \u001b[0mvocab\u001b[0m\u001b[0;34m.\u001b[0m\u001b[0mbegin_idx\u001b[0m\u001b[0;34m\u001b[0m\u001b[0;34m\u001b[0m\u001b[0m\n",
      "\u001b[0;32m/anaconda3/envs/brats/lib/python3.7/site-packages/torch/nn/modules/module.py\u001b[0m in \u001b[0;36mload_state_dict\u001b[0;34m(self, state_dict, strict)\u001b[0m\n\u001b[1;32m    775\u001b[0m         \u001b[0;32mif\u001b[0m \u001b[0mlen\u001b[0m\u001b[0;34m(\u001b[0m\u001b[0merror_msgs\u001b[0m\u001b[0;34m)\u001b[0m \u001b[0;34m>\u001b[0m \u001b[0;36m0\u001b[0m\u001b[0;34m:\u001b[0m\u001b[0;34m\u001b[0m\u001b[0;34m\u001b[0m\u001b[0m\n\u001b[1;32m    776\u001b[0m             raise RuntimeError('Error(s) in loading state_dict for {}:\\n\\t{}'.format(\n\u001b[0;32m--> 777\u001b[0;31m                                self.__class__.__name__, \"\\n\\t\".join(error_msgs)))\n\u001b[0m\u001b[1;32m    778\u001b[0m         \u001b[0;32mreturn\u001b[0m \u001b[0m_IncompatibleKeys\u001b[0m\u001b[0;34m(\u001b[0m\u001b[0mmissing_keys\u001b[0m\u001b[0;34m,\u001b[0m \u001b[0munexpected_keys\u001b[0m\u001b[0;34m)\u001b[0m\u001b[0;34m\u001b[0m\u001b[0;34m\u001b[0m\u001b[0m\n\u001b[1;32m    779\u001b[0m \u001b[0;34m\u001b[0m\u001b[0m\n",
      "\u001b[0;31mRuntimeError\u001b[0m: Error(s) in loading state_dict for charModel:\n\tsize mismatch for emb.weight: copying a param with shape torch.Size([30, 10]) from checkpoint, the shape in current model is torch.Size([31, 10]).\n\tsize mismatch for fc.weight: copying a param with shape torch.Size([30, 9]) from checkpoint, the shape in current model is torch.Size([31, 9]).\n\tsize mismatch for fc.bias: copying a param with shape torch.Size([30]) from checkpoint, the shape in current model is torch.Size([31])."
     ]
    }
   ],
   "source": [
    "for i in range(10):\n",
    "    f = generate_name('models/firstnames-ok.pt', 'source/firstnames.pkl', rough=False, capitalization=True)\n",
    "    l = generate_name('models/lastnames.pt', 'source/lastnames.pkl', rough=False, capitalization=True)\n",
    "    print(f+' '+l)"
   ]
  },
  {
   "cell_type": "code",
   "execution_count": 21,
   "metadata": {},
   "outputs": [
    {
     "name": "stdout",
     "output_type": "stream",
     "text": [
      "Hishiyaga\n",
      "Kuyanaduro\n",
      "Nida\n",
      "Kururi\n",
      "Aye\n",
      "Takota\n",
      "Otsamime\n",
      "Kama\n",
      "Ba\n",
      "Toomaki\n"
     ]
    }
   ],
   "source": [
    "for i in range(10):\n",
    "    s = generate_name('models/model2.pt','source/lastnames.pkl')\n",
    "    print(s)"
   ]
  },
  {
   "cell_type": "code",
   "execution_count": null,
   "metadata": {},
   "outputs": [],
   "source": []
  }
 ],
 "metadata": {
  "kernelspec": {
   "display_name": "Python 3",
   "language": "python",
   "name": "python3"
  },
  "language_info": {
   "codemirror_mode": {
    "name": "ipython",
    "version": 3
   },
   "file_extension": ".py",
   "mimetype": "text/x-python",
   "name": "python",
   "nbconvert_exporter": "python",
   "pygments_lexer": "ipython3",
   "version": "3.7.3"
  }
 },
 "nbformat": 4,
 "nbformat_minor": 4
}
