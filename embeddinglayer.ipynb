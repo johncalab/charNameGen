{
 "cells": [
  {
   "cell_type": "markdown",
   "metadata": {},
   "source": [
    "# Embeddings\n",
    "An embedding layer is nothing but a linear layer, with the exception that it accepts as an input a sequence of integers, rather than a vector. \n",
    "\n",
    "#### Example\n",
    "We start with the word 'monkey'. Here we think of each character as being a *token* and the whole word as a *sequence* of tokens. To use linear algebra, we should convert these tokens into vectors.\n",
    "\n",
    "Which vectors though? Well, let's say we have a grand total of $N$ distinct tokens (for example $N=26$). We want to embed the $i$th token as the $i$th standard basis vector of $\\mathbb R^N$. For example, 'a' could correspond to $(0,0,0,0,0,1,0,0,0,0,0,0)$. But instead of remembering all those useless zeros, we record 'a' just as the index where $1$ appears:\n",
    "$$ \\text{'a'} \\longleftrightarrow 6.$$\n",
    "I guess CS people like to call these ***one hot encoded*** vectors.\n",
    "\n",
    "So, let's say we set up a bijection between letters of the alphabet {a,b,c,...,z} and numbers {1,2,3,...,26}, then the word 'monkey' could become the sequence [3,9,10,4,5,7] (the bijection needn't be the one you expect, it can be any). But the sequence really stands for the sequence of basis vectors $(e_3,e_9,e_{10},e_4,e_5,e_7)$ in $\\mathbb R^{26}$.\n",
    "\n",
    "#### The layer\n",
    "The embedding layer then takes a vector in $\\mathbb R^N$ an spits out a vector in $\\mathbb R^k$, where $k$ is meant to be much smaller than $N$. It's a way to pack highe-dimensional one-hot-encoded vectors, into *dense* low-dimensional vectors.\n",
    "\n",
    "The embedding layer takes as input a sequence of numbers, and spits out a sequence of vectors.\n",
    "Since it's pytorch, one must work with batches.\n",
    "\n",
    "- `num_embeddings` is the $N$ from above, i.e.the dimension of one-hot-encoded vectors, or the size of your vocabulary\n",
    "- `embedding_dim` is the dimension of the linear space where you wish to squash your vectors in (the $k$ from above)\n",
    "- `padding_idx` informs the layer that a specific index is reserved for padding (which in turn does helpful things under the hood)"
   ]
  },
  {
   "cell_type": "code",
   "execution_count": 4,
   "metadata": {},
   "outputs": [],
   "source": [
    "import torch\n",
    "N = 26\n",
    "k = 5\n",
    "emb = torch.nn.Embedding(num_embeddings=N,embedding_dim=k)"
   ]
  },
  {
   "cell_type": "code",
   "execution_count": 5,
   "metadata": {},
   "outputs": [
    {
     "name": "stdout",
     "output_type": "stream",
     "text": [
      "torch.Size([1, 6])\n",
      "torch.Size([1, 6, 5])\n"
     ]
    }
   ],
   "source": [
    "sequence = [3,9,10,4,5,7]\n",
    "x = torch.tensor(sequence)\n",
    "x = x.unsqueeze(dim=0)\n",
    "print(x.shape)\n",
    "\n",
    "y = emb(x)\n",
    "print(y.shape)"
   ]
  }
 ],
 "metadata": {
  "kernelspec": {
   "display_name": "Python 3",
   "language": "python",
   "name": "python3"
  },
  "language_info": {
   "codemirror_mode": {
    "name": "ipython",
    "version": 3
   },
   "file_extension": ".py",
   "mimetype": "text/x-python",
   "name": "python",
   "nbconvert_exporter": "python",
   "pygments_lexer": "ipython3",
   "version": "3.7.3"
  }
 },
 "nbformat": 4,
 "nbformat_minor": 4
}
