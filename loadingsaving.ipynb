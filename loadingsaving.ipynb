{
 "cells": [
  {
   "cell_type": "markdown",
   "metadata": {},
   "source": [
    "# Loading and Saving\n",
    "This is a quick notebook about saving and loading models.\n",
    "\n",
    "## Pickle vocabulary"
   ]
  },
  {
   "cell_type": "code",
   "execution_count": 6,
   "metadata": {},
   "outputs": [],
   "source": [
    "from charvocabulary import charVocabulary\n",
    "vocab = charVocabulary()\n",
    "\n",
    "import os\n",
    "txt_path = os.path.join('source', 'firstnames.txt')\n",
    "vocab.add_txt(txt_path)\n",
    "\n",
    "# let's save the token_to_idx dictionary with pickle\n",
    "dict_path = os.path.join('models', 'dict.pkl')\n",
    "import pickle\n",
    "pickle.dump(vocab.token_to_idx, open(dict_path,'wb'))\n",
    "\n",
    "# to load\n",
    "dictionary_name = pickle.load(open(dict_path,'rb'))"
   ]
  },
  {
   "cell_type": "markdown",
   "metadata": {},
   "source": [
    "## Save pytorch model\n",
    "Let's move on to pytorch models. Because of how our model is set up, we need to specify a vocabulary length."
   ]
  },
  {
   "cell_type": "code",
   "execution_count": 7,
   "metadata": {},
   "outputs": [],
   "source": [
    "import torch\n",
    "from charmodel import charModel\n",
    "model = charModel(vocab_size=len(vocab))\n",
    "\n",
    "model_path = os.path.join('models', 'model.pt')\n",
    "torch.save(model.state_dict(), model_path)"
   ]
  },
  {
   "cell_type": "markdown",
   "metadata": {},
   "source": [
    "## Load pytorch model\n",
    "Here pytorch might tell you off if you are not using the correct device."
   ]
  },
  {
   "cell_type": "code",
   "execution_count": 8,
   "metadata": {},
   "outputs": [
    {
     "data": {
      "text/plain": [
       "IncompatibleKeys(missing_keys=[], unexpected_keys=[])"
      ]
     },
     "execution_count": 8,
     "metadata": {},
     "output_type": "execute_result"
    }
   ],
   "source": [
    "newmodel = charModel(vocab_size=len(vocab))\n",
    "newmodel.load_state_dict(torch.load(model_path, map_location='cpu'))"
   ]
  },
  {
   "cell_type": "markdown",
   "metadata": {},
   "source": [
    "### Attention!\n",
    "Running the cell above you might get a \n",
    "\n",
    "```` IncompatibleKeys(missing_keys=[], unexpected_keys=[]) ````\n",
    "\n",
    "output. Just ignore it."
   ]
  },
  {
   "cell_type": "code",
   "execution_count": 9,
   "metadata": {},
   "outputs": [
    {
     "data": {
      "text/plain": [
       "\u001b[0;31mSignature:\u001b[0m       \u001b[0mnewmodel\u001b[0m\u001b[0;34m(\u001b[0m\u001b[0;34m*\u001b[0m\u001b[0minput\u001b[0m\u001b[0;34m,\u001b[0m \u001b[0;34m**\u001b[0m\u001b[0mkwargs\u001b[0m\u001b[0;34m)\u001b[0m\u001b[0;34m\u001b[0m\u001b[0;34m\u001b[0m\u001b[0m\n",
       "\u001b[0;31mType:\u001b[0m            charModel\n",
       "\u001b[0;31mString form:\u001b[0m    \n",
       "charModel(\n",
       "  (emb): Embedding(31, 10, padding_idx=0)\n",
       "  (rnn): GRU(10, 9, batch_first=True)\n",
       "  (fc): Linear(in_features=9, out_features=31, bias=True)\n",
       ")\n",
       "\u001b[0;31mFile:\u001b[0m            ~/Dropbox/work_fun/pregit/charNameGen/charmodel.py\n",
       "\u001b[0;31mDocstring:\u001b[0m       <no docstring>\n",
       "\u001b[0;31mClass docstring:\u001b[0m\n",
       "Base class for all neural network modules.\n",
       "\n",
       "Your models should also subclass this class.\n",
       "\n",
       "Modules can also contain other Modules, allowing to nest them in\n",
       "a tree structure. You can assign the submodules as regular attributes::\n",
       "\n",
       "    import torch.nn as nn\n",
       "    import torch.nn.functional as F\n",
       "\n",
       "    class Model(nn.Module):\n",
       "        def __init__(self):\n",
       "            super(Model, self).__init__()\n",
       "            self.conv1 = nn.Conv2d(1, 20, 5)\n",
       "            self.conv2 = nn.Conv2d(20, 20, 5)\n",
       "\n",
       "        def forward(self, x):\n",
       "           x = F.relu(self.conv1(x))\n",
       "           return F.relu(self.conv2(x))\n",
       "\n",
       "Submodules assigned in this way will be registered, and will have their\n",
       "parameters converted too when you call :meth:`to`, etc.\n"
      ]
     },
     "metadata": {},
     "output_type": "display_data"
    }
   ],
   "source": [
    "newmodel?"
   ]
  }
 ],
 "metadata": {
  "kernelspec": {
   "display_name": "Python 3",
   "language": "python",
   "name": "python3"
  },
  "language_info": {
   "codemirror_mode": {
    "name": "ipython",
    "version": 3
   },
   "file_extension": ".py",
   "mimetype": "text/x-python",
   "name": "python",
   "nbconvert_exporter": "python",
   "pygments_lexer": "ipython3",
   "version": "3.7.3"
  }
 },
 "nbformat": 4,
 "nbformat_minor": 4
}
